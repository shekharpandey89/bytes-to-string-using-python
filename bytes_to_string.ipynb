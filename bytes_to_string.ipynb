{
 "cells": [
  {
   "cell_type": "markdown",
   "id": "original-herald",
   "metadata": {},
   "source": [
    "# Method 1: Using the map () function"
   ]
  },
  {
   "cell_type": "code",
   "execution_count": 4,
   "id": "pending-identification",
   "metadata": {},
   "outputs": [
    {
     "name": "stdout",
     "output_type": "stream",
     "text": [
      "acd\n"
     ]
    }
   ],
   "source": [
    "byte = [97, 99, 100]\n",
    "  \n",
    "s = ''.join(map(chr, byte))\n",
    "print(s)"
   ]
  },
  {
   "cell_type": "markdown",
   "id": "first-publisher",
   "metadata": {},
   "source": [
    "# Method 2: Using decode () function"
   ]
  },
  {
   "cell_type": "code",
   "execution_count": 5,
   "id": "blank-syndicate",
   "metadata": {},
   "outputs": [
    {
     "name": "stdout",
     "output_type": "stream",
     "text": [
      "b'blogs linuxhint'\n",
      "<class 'bytes'>\n",
      "\n",
      "Output:\n",
      "blogs linuxhint\n",
      "<class 'str'>\n"
     ]
    }
   ],
   "source": [
    "#convert bytes to string using decode()\n",
    " \n",
    "str = b'blogs linuxhint'\n",
    "print(str)\n",
    "print(type(str))\n",
    " \n",
    "# now converting bytes to string\n",
    "output = str.decode()\n",
    "\n",
    "print('\\nOutput:')\n",
    "print(output)\n",
    "print(type(output))"
   ]
  },
  {
   "cell_type": "markdown",
   "id": "southern-sympathy",
   "metadata": {},
   "source": [
    "# Method 3: Using codecs () function to convert the bytes to string"
   ]
  },
  {
   "cell_type": "code",
   "execution_count": 12,
   "id": "existing-oliver",
   "metadata": {},
   "outputs": [
    {
     "name": "stdout",
     "output_type": "stream",
     "text": [
      "b'blogs linuxhint'\n",
      "<class 'bytes'>\n",
      "\n",
      "Output:\n",
      "blogs linuxhint\n",
      "<class 'str'>\n"
     ]
    }
   ],
   "source": [
    "#convert bytes to string using codecs()\n",
    "import codecs\n",
    "str = b'blogs linuxhint'\n",
    "print(str)\n",
    "print(type(str))\n",
    " \n",
    "# now converting bytes to string\n",
    "output = codecs.decode(str)\n",
    "\n",
    "print('\\nOutput:')\n",
    "print(output)\n",
    "print(type(output))"
   ]
  }
 ],
 "metadata": {
  "kernelspec": {
   "display_name": "cv",
   "language": "python",
   "name": "cv"
  },
  "language_info": {
   "codemirror_mode": {
    "name": "ipython",
    "version": 3
   },
   "file_extension": ".py",
   "mimetype": "text/x-python",
   "name": "python",
   "nbconvert_exporter": "python",
   "pygments_lexer": "ipython3",
   "version": "3.8.10"
  }
 },
 "nbformat": 4,
 "nbformat_minor": 5
}
